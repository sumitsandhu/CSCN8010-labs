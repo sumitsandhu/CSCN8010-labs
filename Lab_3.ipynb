{
 "cells": [
  {
   "cell_type": "code",
   "execution_count": null,
   "metadata": {},
   "outputs": [],
   "source": [
    "model = Pipeline([('polynomial', PolynomialFeatures(degree=3)), \n",
    "                  ('linear', LinearRegression())])\n",
    "model.fit(X, y)"
   ]
  },
  {
   "cell_type": "code",
   "execution_count": null,
   "metadata": {},
   "outputs": [],
   "source": [
    "X, y = load_diabetes(return_X_y=True, as_frame=True)\n",
    "X = X[\"bmi\"]\n",
    "\n",
    "\n",
    "import numpy as np\n",
    "import pandas as pd\n",
    "from sklearn.preprocessing import PolynomialFeatures\n",
    "from sklearn.linear_model import LinearRegression\n",
    "\n",
    "def create_polynomial_model(degree, X=X):\n",
    "    # Reshape X to a 2D array\n",
    "    X = X.values.reshape(-1, 1) if isinstance(X, pd.Series) else X.reshape(-1, 1)\n",
    "    \n",
    "    # Use PolynomialFeatures to create polynomials as new features\n",
    "    poly_features = PolynomialFeatures(degree=degree, include_bias=False)\n",
    "    X_poly = poly_features.fit_transform(X)\n",
    "    \n",
    "    # Create a linear model\n",
    "    model = LinearRegression()\n",
    "    model.fit(X_poly, y)\n",
    "    \n",
    "    return model, X_poly\n",
    "\n",
    "# Assuming X and y are loaded\n",
    "X, y = load_diabetes(return_X_y=True, as_frame=True)\n",
    "X = X[\"bmi\"]\n",
    "\n",
    "# Assuming you want to create a polynomial model of degree 3\n",
    "degree = 3\n",
    "\n",
    "\n",
    "print(\"Model Coefficients:\", model.coef_)\n"
   ]
  }
 ],
 "metadata": {
  "language_info": {
   "name": "python"
  }
 },
 "nbformat": 4,
 "nbformat_minor": 2
}
